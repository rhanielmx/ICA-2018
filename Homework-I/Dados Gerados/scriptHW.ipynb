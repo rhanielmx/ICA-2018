{
 "cells": [
  {
   "cell_type": "code",
   "execution_count": 25,
   "metadata": {},
   "outputs": [],
   "source": [
    "#Verificando se os pacotes necessários já estão instalados e instalando-os em caso contrário.\n",
    "required_packages <- c(\"e1071\", \"mlbench\", \"corrplot\", \"ggplot2\",\"ggfortify\", \"GGally\", \"dplyr\")\n",
    "installed_packages <- rownames(installed.packages())\n",
    "for (requirement in required_packages){\n",
    "  if(!(requirement %in% installed_packages)){\n",
    "    install.packages(requirement)\n",
    "  }\n",
    "}"
   ]
  },
  {
   "cell_type": "code",
   "execution_count": 26,
   "metadata": {},
   "outputs": [],
   "source": [
    "#Carregando os pacotes\n",
    "library(dplyr)\n",
    "library(e1071)\n",
    "library(mlbench)\n",
    "library(corrplot)\n",
    "library(ggplot2)\n",
    "library(ggfortify)\n",
    "library(GGally)"
   ]
  },
  {
   "cell_type": "code",
   "execution_count": 27,
   "metadata": {},
   "outputs": [],
   "source": [
    "#Função retirada da internet\n",
    "#Verifica a existência de um diretório e o cria caso ainda não exista\n",
    "\n",
    "mkdirs <- function(dir){\n",
    "  if(!file.exists(dir)){\n",
    "    mkdirs(dirname(dir))\n",
    "    dir.create(dir)\n",
    "  }\n",
    "}"
   ]
  },
  {
   "cell_type": "code",
   "execution_count": 28,
   "metadata": {},
   "outputs": [
    {
     "name": "stderr",
     "output_type": "stream",
     "text": [
      "The following objects are masked from Glass (pos = 3):\n",
      "\n",
      "    Al, Ba, Ca, Fe, K, Mg, Na, RI, Si, Type\n",
      "\n",
      "The following objects are masked from Glass (pos = 11):\n",
      "\n",
      "    Al, Ba, Ca, Fe, K, Mg, Na, RI, Si, Type\n",
      "\n"
     ]
    }
   ],
   "source": [
    "#Carregando o Dataset\n",
    "data(Glass)\n",
    "attach(Glass)"
   ]
  },
  {
   "cell_type": "code",
   "execution_count": 29,
   "metadata": {},
   "outputs": [],
   "source": [
    "data <- Glass[,-10]\n",
    "elements <- colnames(data)"
   ]
  },
  {
   "cell_type": "code",
   "execution_count": 30,
   "metadata": {},
   "outputs": [],
   "source": [
    "#Criando o caminho, caso ainda não exista, para os arquivos serem salvos\n",
    "main_path = file.path(getwd(),\"figures\")\n",
    "file_path=file.path(main_path,\"unconditional\")\n",
    "mkdirs(file_path)"
   ]
  },
  {
   "cell_type": "code",
   "execution_count": 31,
   "metadata": {},
   "outputs": [],
   "source": [
    "#Salvando os histogramas não condicionais na pasta correspondete\n",
    "for(element in elements){\n",
    "    file_name=paste0(\"Histogram_of_\", element)\n",
    "    png(file.path(file_path, paste0(file_name,\".png\")))\n",
    "    suppressMessages(print(ggplot(data = data, aes(data[[element]])) + xlab(element) + ggtitle(paste(\"Histogram of\",element)) + theme(plot.title = element_text(size = 24, face = \"bold\")) + geom_histogram(colour=\"black\", fill=\"gray\")))\n",
    "    dev.off()\n",
    "}"
   ]
  },
  {
   "cell_type": "code",
   "execution_count": 32,
   "metadata": {},
   "outputs": [],
   "source": [
    "#Calculando as estatísticas descritivas do conjunto de dados\n",
    "mean_vec <- mapply(mean, data) %>% round(6)\n",
    "std_vec <- mapply(sd, data) %>% round(6)\n",
    "skewness_vec <- mapply(skewness, data) %>% round(6)"
   ]
  },
  {
   "cell_type": "code",
   "execution_count": 33,
   "metadata": {},
   "outputs": [],
   "source": [
    "#Salvando as estatísticas em um arquivo .csv\n",
    "statistics <- data.frame(rbind(mean_vec,std_vec,skewness_vec))\n",
    "rownames(statistics) <- c(\"Mean\", \"SD\", \"Skewness\")\n",
    "write.csv(statistics,file.path(file_path, \"Unconditional_Statistics.csv\"),row.names = TRUE)"
   ]
  },
  {
   "cell_type": "code",
   "execution_count": 34,
   "metadata": {},
   "outputs": [],
   "source": [
    "for(class in unique(Type)){\n",
    "  #Criando as pastas referentes a cada classe\n",
    "  file_path=file.path(main_path,paste0(\"class-conditional/Class\",class))\n",
    "  mkdirs(file_path)\n",
    "  \n",
    "  #Separando os dados por classe e calculando suas estatísticas descritivas\n",
    "  df <- data[Type==class,]\n",
    "  mean_vec <- mapply(mean, df) %>% round(6)\n",
    "  std_vec <- mapply(sd, df) %>% round(6)\n",
    "  skewness_vec <- mapply(skewness, df) %>% round(6)\n",
    "  \n",
    "  #Salvando essas estatísticas em um arquivo .csv\n",
    "  cc_statistics <- data.frame(rbind(mean_vec,std_vec,skewness_vec))\n",
    "  rownames(cc_statistics) <- c(\"Mean\", \"SD\", \"Skewness\")\n",
    "  write.csv(cc_statistics, file.path(file_path, paste0(\"Conditional_Statistics-Class\",class,\".csv\")),row.names = FALSE)\n",
    "  \n",
    "  #Salvando os histogramas condicionados às classes nas suas pastas correspondentes\n",
    "  for(element in elements){\n",
    "        file_name=paste0(\"Histogram_of_\", element)\n",
    "        png(file.path(file_path, paste0(file_name,\"-Class\",class,\".png\")))\n",
    "        suppressMessages(print(ggplot(data = df, aes(df[[element]])) + xlab(element) + ggtitle(paste(\"Histogram of\",element)) + theme(plot.title = element_text(size = 24, face = \"bold\")) + geom_histogram(colour=\"black\", fill=\"gray\")))\n",
    "        dev.off()\n",
    "  }\n",
    "}"
   ]
  },
  {
   "cell_type": "code",
   "execution_count": 35,
   "metadata": {},
   "outputs": [
    {
     "name": "stderr",
     "output_type": "stream",
     "text": [
      "`stat_bin()` using `bins = 30`. Pick better value with `binwidth`.\n",
      "`stat_bin()` using `bins = 30`. Pick better value with `binwidth`.\n",
      "`stat_bin()` using `bins = 30`. Pick better value with `binwidth`.\n",
      "`stat_bin()` using `bins = 30`. Pick better value with `binwidth`.\n",
      "`stat_bin()` using `bins = 30`. Pick better value with `binwidth`.\n",
      "`stat_bin()` using `bins = 30`. Pick better value with `binwidth`.\n",
      "`stat_bin()` using `bins = 30`. Pick better value with `binwidth`.\n",
      "`stat_bin()` using `bins = 30`. Pick better value with `binwidth`.\n",
      "`stat_bin()` using `bins = 30`. Pick better value with `binwidth`.\n"
     ]
    },
    {
     "data": {},
     "metadata": {},
     "output_type": "display_data"
    },
    {
     "data": {
      "text/html": [
       "<strong>png:</strong> 2"
      ],
      "text/latex": [
       "\\textbf{png:} 2"
      ],
      "text/markdown": [
       "**png:** 2"
      ],
      "text/plain": [
       "png \n",
       "  2 "
      ]
     },
     "metadata": {},
     "output_type": "display_data"
    }
   ],
   "source": [
    "#Item 3\n",
    "\n",
    "#Plots dois a dois dos preditores do conjunto de dados\n",
    "\n",
    "p <- ggpairs(Glass[-10], aes(colour = Type, alpha = 0.4), upper = list(continuous = \"points\", combo = \"dot_no_facet\"),\n",
    "        diag = list(continuous = \"barDiag\"), legend=3)\n",
    "p <- p + theme(axis.text.x = element_text(angle = 50, hjust = 1))\n",
    "file_name = \"figures/pairsPlot.png\"\n",
    "png(file_name)\n",
    "p\n",
    "dev.off()"
   ]
  },
  {
   "cell_type": "code",
   "execution_count": 36,
   "metadata": {},
   "outputs": [
    {
     "data": {
      "text/html": [
       "<strong>png:</strong> 2"
      ],
      "text/latex": [
       "\\textbf{png:} 2"
      ],
      "text/markdown": [
       "**png:** 2"
      ],
      "text/plain": [
       "png \n",
       "  2 "
      ]
     },
     "metadata": {},
     "output_type": "display_data"
    }
   ],
   "source": [
    "#Criando a matriz de correlação e salvando os valores e seu plot\n",
    "corr.mat <- cor(Glass[-10])\n",
    "write.csv(corr.mat, \"figures/correlationMatrix.csv\",row.names = FALSE)\n",
    "\n",
    "file_name = \"figures/correlationMatrix.png\"\n",
    "png(file_name)\n",
    "corrplot(corr=corr.mat, method = \"square\")\n",
    "dev.off()"
   ]
  },
  {
   "cell_type": "code",
   "execution_count": 37,
   "metadata": {},
   "outputs": [
    {
     "data": {},
     "metadata": {},
     "output_type": "display_data"
    },
    {
     "data": {
      "text/html": [
       "<strong>png:</strong> 2"
      ],
      "text/latex": [
       "\\textbf{png:} 2"
      ],
      "text/markdown": [
       "**png:** 2"
      ],
      "text/plain": [
       "png \n",
       "  2 "
      ]
     },
     "metadata": {},
     "output_type": "display_data"
    },
    {
     "data": {
      "text/html": [
       "<strong>png:</strong> 2"
      ],
      "text/latex": [
       "\\textbf{png:} 2"
      ],
      "text/markdown": [
       "**png:** 2"
      ],
      "text/plain": [
       "png \n",
       "  2 "
      ]
     },
     "metadata": {},
     "output_type": "display_data"
    }
   ],
   "source": [
    "#Item 4\n",
    "\n",
    "#Plot dos dados transformados nos componentes principais e os autovetores associados a cada preditor original\n",
    "#Representação bidimensional com os dois primeiros componentes \n",
    "\n",
    "pcaObject <- prcomp(Glass[,1:9],center = TRUE, scale. = TRUE)\n",
    "file_name = \"figures/pcaPlot.png\"\n",
    "png(file_name)\n",
    "autoplot(pcaObject,data=Glass,colour ='Type', loadings = TRUE, loadings.colour = 'blue', loadings.label = TRUE, loadings.label.size = 3)\n",
    "dev.off()\n",
    "\n",
    "#Plot da variância de cada componente\n",
    "\n",
    "file_name = \"figures/varPlot.png\"\n",
    "png(file_name)\n",
    "plot(pcaObject, main=\"Variância dos Componentes Principais\")\n",
    "dev.off()"
   ]
  }
 ],
 "metadata": {
  "kernelspec": {
   "display_name": "R",
   "language": "R",
   "name": "ir"
  },
  "language_info": {
   "codemirror_mode": "r",
   "file_extension": ".r",
   "mimetype": "text/x-r-source",
   "name": "R",
   "pygments_lexer": "r",
   "version": "3.4.3"
  }
 },
 "nbformat": 4,
 "nbformat_minor": 2
}
